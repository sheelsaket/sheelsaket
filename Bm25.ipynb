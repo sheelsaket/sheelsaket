{
  "nbformat": 4,
  "nbformat_minor": 0,
  "metadata": {
    "colab": {
      "provenance": []
    },
    "kernelspec": {
      "name": "python3",
      "display_name": "Python 3"
    },
    "language_info": {
      "name": "python"
    }
  },
  "cells": [
    {
      "cell_type": "markdown",
      "source": [
        "Build a Search Engine using BM25 Algorithm"
      ],
      "metadata": {
        "id": "1wNK7ms9bn7o"
      }
    },
    {
      "cell_type": "code",
      "source": [
        "from sklearn.datasets import fetch_20newsgroups\n",
        "\n",
        "docs = fetch_20newsgroups(subset='all',  remove=('headers', 'footers', 'quotes'))['data']\n",
        "\n",
        "docs[0:1]"
      ],
      "metadata": {
        "id": "l53YqUTubkF_",
        "colab": {
          "base_uri": "https://localhost:8080/"
        },
        "outputId": "e8abbf5e-97d8-40f0-f38b-d4ad2f282188"
      },
      "execution_count": 25,
      "outputs": [
        {
          "output_type": "execute_result",
          "data": {
            "text/plain": [
              "[\"\\n\\nI am sure some bashers of Pens fans are pretty confused about the lack\\nof any kind of posts about the recent Pens massacre of the Devils. Actually,\\nI am  bit puzzled too and a bit relieved. However, I am going to put an end\\nto non-PIttsburghers' relief with a bit of praise for the Pens. Man, they\\nare killing those Devils worse than I thought. Jagr just showed you why\\nhe is much better than his regular season stats. He is also a lot\\nfo fun to watch in the playoffs. Bowman should let JAgr have a lot of\\nfun in the next couple of games since the Pens are going to beat the pulp out of Jersey anyway. I was very disappointed not to see the Islanders lose the final\\nregular season game.          PENS RULE!!!\\n\\n\"]"
            ]
          },
          "metadata": {},
          "execution_count": 25
        }
      ]
    },
    {
      "cell_type": "code",
      "source": [
        "pip install rank-bm25"
      ],
      "metadata": {
        "id": "8DmKSU0o0rPL",
        "colab": {
          "base_uri": "https://localhost:8080/"
        },
        "outputId": "63a70daa-9db7-466b-8182-ae2c707ac231"
      },
      "execution_count": null,
      "outputs": [
        {
          "output_type": "stream",
          "name": "stdout",
          "text": [
            "Looking in indexes: https://pypi.org/simple, https://us-python.pkg.dev/colab-wheels/public/simple/\n",
            "Collecting rank-bm25\n",
            "  Downloading rank_bm25-0.2.2-py3-none-any.whl (8.6 kB)\n",
            "Requirement already satisfied: numpy in /usr/local/lib/python3.7/dist-packages (from rank-bm25) (1.21.6)\n",
            "Installing collected packages: rank-bm25\n",
            "Successfully installed rank-bm25-0.2.2\n"
          ]
        }
      ]
    },
    {
      "cell_type": "code",
      "source": [
        "from sklearn.datasets import fetch_20newsgroups\n",
        "\n",
        "corpus = fetch_20newsgroups(subset='all',  remove=('headers', 'footers', 'quotes'))['data']"
      ],
      "metadata": {
        "id": "s1NOVRfdfgYg"
      },
      "execution_count": null,
      "outputs": []
    },
    {
      "cell_type": "code",
      "source": [
        "len(corpus)"
      ],
      "metadata": {
        "colab": {
          "base_uri": "https://localhost:8080/"
        },
        "id": "a73T9U8zf_0Y",
        "outputId": "28f8e5e7-5b19-444c-a9c8-c23ea66551d5"
      },
      "execution_count": null,
      "outputs": [
        {
          "output_type": "execute_result",
          "data": {
            "text/plain": [
              "18846"
            ]
          },
          "metadata": {},
          "execution_count": 5
        }
      ]
    },
    {
      "cell_type": "code",
      "source": [
        "from rank_bm25 import BM25Okapi\n",
        "\n",
        "tokenized_corpus = [doc.lower().split(\" \") for doc in corpus]\n",
        "\n",
        "bm25 = BM25Okapi(tokenized_corpus)"
      ],
      "metadata": {
        "id": "9o_9LgOkfrvE"
      },
      "execution_count": null,
      "outputs": []
    },
    {
      "cell_type": "code",
      "source": [
        "corpus[100]"
      ],
      "metadata": {
        "colab": {
          "base_uri": "https://localhost:8080/",
          "height": 36
        },
        "id": "xunur6K9Z0Y4",
        "outputId": "40d61056-6a86-4f8a-8ea3-a4401320ee58"
      },
      "execution_count": null,
      "outputs": [
        {
          "output_type": "execute_result",
          "data": {
            "text/plain": [
              "'\\nYeah right, sorta like the Indian sub-contient, eh?'"
            ],
            "application/vnd.google.colaboratory.intrinsic+json": {
              "type": "string"
            }
          },
          "metadata": {},
          "execution_count": 7
        }
      ]
    },
    {
      "cell_type": "code",
      "source": [
        "import string\n",
        "\n",
        "corpus = [doc.translate(str.maketrans('', '', string.punctuation)).replace('\\n',\"\").lower() for doc in corpus]\n",
        "\n",
        "corpus[100]"
      ],
      "metadata": {
        "colab": {
          "base_uri": "https://localhost:8080/",
          "height": 36
        },
        "id": "mQn76e1aaEah",
        "outputId": "ff4714a5-baa4-4c7b-cd8d-9ace13f7e47a"
      },
      "execution_count": null,
      "outputs": [
        {
          "output_type": "execute_result",
          "data": {
            "text/plain": [
              "'yeah right sorta like the indian subcontient eh'"
            ],
            "application/vnd.google.colaboratory.intrinsic+json": {
              "type": "string"
            }
          },
          "metadata": {},
          "execution_count": 11
        }
      ]
    },
    {
      "cell_type": "code",
      "source": [
        "query = \"american immigration\"\n",
        "tokenized_query = query.lower().split(\" \")\n",
        "bm25.get_top_n(tokenized_query, corpus, n=4)"
      ],
      "metadata": {
        "id": "Do2Olrjcf-PX",
        "colab": {
          "base_uri": "https://localhost:8080/"
        },
        "outputId": "5abeb67a-b17b-467d-fa1b-06e1e5696733"
      },
      "execution_count": 33,
      "outputs": [
        {
          "output_type": "execute_result",
          "data": {
            "text/plain": [
              "['i am fairly sure that she could obtain citizenship by making anapplication for it it might require immigration to germany buti am almost certain that once applied for citizenship is inevitablein this casemore interesting only for your propaganda purposes i have said severaltimes now that i dont consider iran particularly exemplary as a goodislamic state we might talk about the rights of people in capitalistsecular third world countries to give other examples of the lack ofrights in third world countries broadly say for example centralamerican secular capitalist countries whose govts the us supportsbut who amnesty international has pointed out are human rights vacua',\n",
              " '   analog sf magazine did an article on a similar subject quite a fewyears ago  the question was if an alien spacecraft landed inwashington dc what was the proper organization to deal with it thestate department alien ambassadors the defense department alieninvaders the immigration and naturalization service illegal aliensthe department of the interior new nonhuman species etc  it wasvery much a question of our perception of the aliens not of anythingintrinsic in their nature  the bibliography for the article cited aphilosophical paper the name and author of which i sadly forget ibelieve the author was italian on what constitutes a legal andor moralperson ie a being entitled to the rights normally accorded to aperson  the paper was quite interesting as i recall   i think youd have to be very careful here if the answer is yes  thehuman track record on helping those poor underpriveleged cultures doesunderpriveleged mean not having enough priveleges is terrible  theusual result is the destruction or radical reorganization of theculture  this may not always be wrong but thats the way to bet',\n",
              " 'does this imply the german tone dialing is compatible with the american one  i know at least the british system is not  it is supposedly close enough though that an american phone will work  but my modem americanhas a special setting for british standardsmichael',\n",
              " 'the problem if  transffering us government files about yigal arensand some other similar persons does or does not violate a federalor a local american law seemed to belong to some local american lawforum  not to this forumthe readers of this forum seemed to be more interested in the contentsof those filesso it will be nice if yigal will tell us1 why do american authorities consider yigal arens to be dangerous2 why does the adl have an interest in that person 3 if one does trust either the us government or the adl what an   additional information should he send them ']"
            ]
          },
          "metadata": {},
          "execution_count": 33
        }
      ]
    },
    {
      "cell_type": "code",
      "source": [
        "doc_scores = bm25.get_scores(tokenized_query)\n",
        "# ['It is quite windy in London']"
      ],
      "metadata": {
        "colab": {
          "base_uri": "https://localhost:8080/"
        },
        "id": "A9S6vV4rf_b1",
        "outputId": "81f23e04-a040-4120-e609-18b6a37a3ad3"
      },
      "execution_count": null,
      "outputs": [
        {
          "output_type": "execute_result",
          "data": {
            "text/plain": [
              "['yeah right sorta like the indian subcontient eh',\n",
              " 'thank you  i now know at least that though i may be on drugs atleast im not the only oneyes this took some getting used to  of course not having an indianconnection no knowledge of hindi etc this was not trivial for mei did have thanks to the wonders of the net a glossary to satanicverses posted to recartsbooks by vijay raghavan which explains alot of the indian english constructions indian culture referenceseven the islamic references jahilia submission the context ofthe satanic verses incident etc  what i have only covers thefirst couple of hundred pages but it helped me get into the flow ofthe novel i can mail this to anyone interested if anyone hasportions after part i if they exist id like to get those',\n",
              " 'what do you mean are you saying they thought the effort wasprofitable or that the money was efficiently spent providing maxvalue per money spenti think they would answer yes on ballance to both questions exceptionswould be places like the us from the french indian war to the end ofthe us revolution but even after the colonies revolted or where given independance thebritish engaged in very lucrative trading with the former coloniesfive years after the american revolution england was still the largestus trading partner  allen',\n",
              " 'lots of pretty good stuff about how the huge towers near most nuclearpower plants are there to cool the used steam back into near ambienttemperature water deleted    as a point of info some of the early nuclear power plants in thiscountry used the fission pile as a first stage to get the water hot andthen had a second stage fossil fuel step to get the water actuallysteam very hot   i remember seeing this at con edisons indian point 1 power plantwhich is about 30 miles north of nyc and built more or less 1958dannybpanixcom']"
            ]
          },
          "metadata": {},
          "execution_count": 22
        }
      ]
    },
    {
      "cell_type": "code",
      "source": [
        "bm25scores = bm25.get_scores(query=tokenized_query)"
      ],
      "metadata": {
        "id": "IJeVqdUYgVIF"
      },
      "execution_count": null,
      "outputs": []
    },
    {
      "cell_type": "code",
      "source": [
        "import numpy as np\n",
        "np.sort(bm25scores)[-4:][::-1]"
      ],
      "metadata": {
        "colab": {
          "base_uri": "https://localhost:8080/"
        },
        "id": "SsUvztrXiSZt",
        "outputId": "a45cb60a-21c3-44ba-a19d-132f6146ddb2"
      },
      "execution_count": 35,
      "outputs": [
        {
          "output_type": "execute_result",
          "data": {
            "text/plain": [
              "array([12.29661444, 11.29916189,  9.456404  ,  9.07528336])"
            ]
          },
          "metadata": {},
          "execution_count": 35
        }
      ]
    },
    {
      "cell_type": "code",
      "source": [
        "corpus[np.argmax(bm25scores)]"
      ],
      "metadata": {
        "colab": {
          "base_uri": "https://localhost:8080/",
          "height": 36
        },
        "id": "M0r1aANZiytT",
        "outputId": "a2169702-01e6-4d69-cab6-faee981e4d0e"
      },
      "execution_count": null,
      "outputs": [
        {
          "output_type": "execute_result",
          "data": {
            "text/plain": [
              "'yeah right sorta like the indian subcontient eh'"
            ],
            "application/vnd.google.colaboratory.intrinsic+json": {
              "type": "string"
            }
          },
          "metadata": {},
          "execution_count": 21
        }
      ]
    },
    {
      "cell_type": "code",
      "source": [],
      "metadata": {
        "id": "NoyxGkeHjAGB"
      },
      "execution_count": null,
      "outputs": []
    }
  ]
}